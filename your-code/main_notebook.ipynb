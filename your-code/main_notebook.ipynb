{
 "cells": [
  {
   "cell_type": "markdown",
   "metadata": {},
   "source": [
    "# 1. Import the NUMPY package under the name np.\n"
   ]
  },
  {
   "cell_type": "code",
   "execution_count": 2,
   "metadata": {},
   "outputs": [],
   "source": [
    "import numpy as np"
   ]
  },
  {
   "cell_type": "markdown",
   "metadata": {},
   "source": [
    "# 2. Print the NUMPY version and the configuration.\n"
   ]
  },
  {
   "cell_type": "code",
   "execution_count": 3,
   "metadata": {},
   "outputs": [
    {
     "name": "stdout",
     "output_type": "stream",
     "text": [
      "1.16.2\n"
     ]
    }
   ],
   "source": [
    "print(np.version.version)"
   ]
  },
  {
   "cell_type": "markdown",
   "metadata": {},
   "source": [
    "# 3. Generate a 2x3x5 3-dimensional array with random values. Assign the array to variable \"a\"\n"
   ]
  },
  {
   "cell_type": "code",
   "execution_count": 4,
   "metadata": {},
   "outputs": [
    {
     "name": "stdout",
     "output_type": "stream",
     "text": [
      "[[[0.87012989 0.65740825 0.42193775 0.11290907 0.53994728]\n",
      "  [0.92983535 0.37525758 0.2832224  0.10761093 0.10529683]\n",
      "  [0.63704396 0.50101058 0.39770635 0.42553879 0.06457468]]\n",
      "\n",
      " [[0.81374525 0.26572879 0.80055612 0.06501676 0.69456539]\n",
      "  [0.52902449 0.35710134 0.02396549 0.29134369 0.10841791]\n",
      "  [0.80841591 0.07965667 0.82183343 0.48371435 0.95113555]]] \n",
      "\n",
      "[[[5 8 1 1 5]\n",
      "  [5 7 6 9 3]\n",
      "  [9 8 0 6 2]]\n",
      "\n",
      " [[4 9 5 4 5]\n",
      "  [0 4 3 0 7]\n",
      "  [9 3 4 5 3]]] \n",
      "\n",
      "[[[-1.02790914 -1.60259437 -0.15905857 -0.77783398  1.53318301]\n",
      "  [ 0.20434921 -1.37752506  1.4339985   1.82400807 -2.56720176]\n",
      "  [ 0.45752008 -0.8722618   0.8883618   1.13267167 -0.45800971]]\n",
      "\n",
      " [[-0.2932031  -1.71646174  0.40616049 -0.70494426 -0.0610816 ]\n",
      "  [-0.30463897 -0.06204946  0.22570888  0.8870487   0.18261056]\n",
      "  [-1.79240979 -0.85088115  0.50563458  0.98594557  0.09781592]]] \n",
      "\n",
      "[[[0.36203719 0.69930457 0.70315926 0.16978973 0.81610908]\n",
      "  [0.63620022 0.55404131 0.42578555 0.41625243 0.7801978 ]\n",
      "  [0.19255335 0.58390732 0.40231234 0.47149022 0.31360733]]\n",
      "\n",
      " [[0.96398474 0.08578464 0.6986476  0.12654826 0.16980913]\n",
      "  [0.41590349 0.35347766 0.42563862 0.69357213 0.74721584]\n",
      "  [0.45200315 0.18789713 0.99650118 0.57086135 0.45051401]]]\n"
     ]
    }
   ],
   "source": [
    "# Create an array of the given shape and populate it with random samples from a uniform distribution over [0, 1).\n",
    "a = np.random.rand(2, 3, 5)\n",
    "print(a, '\\n')\n",
    "\n",
    "# Return random integers from low (inclusive) to high (exclusive).\n",
    "a = np.random.randint(0, 10, (2, 3, 5))\n",
    "print(a, '\\n')\n",
    "\n",
    "# Return a sample (or samples) from the “standard normal” distribution.\n",
    "a = np.random.randn(2, 3, 5)\n",
    "print(a, '\\n')\n",
    "\n",
    "#Return random floats in the half-open interval [0.0, 1.0)\n",
    "a = np.random.random_sample((2, 3 ,5))\n",
    "print(a)"
   ]
  },
  {
   "cell_type": "markdown",
   "metadata": {},
   "source": [
    "#### Challenge: there are at least three easy ways that use numpy to generate random arrays. How many ways can you find?\n"
   ]
  },
  {
   "cell_type": "markdown",
   "metadata": {},
   "source": [
    "# 4. Print a.\n"
   ]
  },
  {
   "cell_type": "code",
   "execution_count": 5,
   "metadata": {},
   "outputs": [],
   "source": [
    "# Printed all the combinations in the previous step."
   ]
  },
  {
   "cell_type": "markdown",
   "metadata": {},
   "source": [
    "# 5. Create a 5x3x2 3-dimensional array with all values equaling 1.\n",
    "# Assign the array to variable \"b\"\n",
    "\n"
   ]
  },
  {
   "cell_type": "code",
   "execution_count": 6,
   "metadata": {},
   "outputs": [],
   "source": [
    "b = np.ones((5,3,2))"
   ]
  },
  {
   "cell_type": "markdown",
   "metadata": {},
   "source": [
    "# 6. Print b.\n"
   ]
  },
  {
   "cell_type": "code",
   "execution_count": 7,
   "metadata": {},
   "outputs": [
    {
     "name": "stdout",
     "output_type": "stream",
     "text": [
      "[[[1. 1.]\n",
      "  [1. 1.]\n",
      "  [1. 1.]]\n",
      "\n",
      " [[1. 1.]\n",
      "  [1. 1.]\n",
      "  [1. 1.]]\n",
      "\n",
      " [[1. 1.]\n",
      "  [1. 1.]\n",
      "  [1. 1.]]\n",
      "\n",
      " [[1. 1.]\n",
      "  [1. 1.]\n",
      "  [1. 1.]]\n",
      "\n",
      " [[1. 1.]\n",
      "  [1. 1.]\n",
      "  [1. 1.]]]\n"
     ]
    }
   ],
   "source": [
    "print(b)"
   ]
  },
  {
   "cell_type": "markdown",
   "metadata": {},
   "source": [
    "# 7. Do a and b have the same size? How do you prove that in Python code?\n"
   ]
  },
  {
   "cell_type": "code",
   "execution_count": 8,
   "metadata": {},
   "outputs": [
    {
     "name": "stdout",
     "output_type": "stream",
     "text": [
      "The size of a is equal to: (2, 3, 5)\n",
      "The size of b is equal to: (5, 3, 2)\n",
      "False\n"
     ]
    }
   ],
   "source": [
    "print('The size of a is equal to:', a.shape)\n",
    "print('The size of b is equal to:', b.shape)\n",
    "print(a.shape == b.shape)"
   ]
  },
  {
   "cell_type": "markdown",
   "metadata": {},
   "source": [
    "# 8. Are you able to add a and b? Why or why not?\n"
   ]
  },
  {
   "cell_type": "code",
   "execution_count": 9,
   "metadata": {},
   "outputs": [
    {
     "ename": "ValueError",
     "evalue": "operands could not be broadcast together with shapes (2,3,5) (5,3,2) ",
     "output_type": "error",
     "traceback": [
      "\u001b[0;31m---------------------------------------------------------------------------\u001b[0m",
      "\u001b[0;31mValueError\u001b[0m                                Traceback (most recent call last)",
      "\u001b[0;32m<ipython-input-9-5b7a86e41bc3>\u001b[0m in \u001b[0;36m<module>\u001b[0;34m\u001b[0m\n\u001b[1;32m      1\u001b[0m \u001b[0;31m# Since the arrays are summed element by element, and we have 2 arrays with different dimensions, we cannot sum them.\u001b[0m\u001b[0;34m\u001b[0m\u001b[0;34m\u001b[0m\u001b[0;34m\u001b[0m\u001b[0m\n\u001b[0;32m----> 2\u001b[0;31m \u001b[0mprint\u001b[0m\u001b[0;34m(\u001b[0m\u001b[0ma\u001b[0m \u001b[0;34m+\u001b[0m \u001b[0mb\u001b[0m\u001b[0;34m)\u001b[0m\u001b[0;34m\u001b[0m\u001b[0;34m\u001b[0m\u001b[0m\n\u001b[0m",
      "\u001b[0;31mValueError\u001b[0m: operands could not be broadcast together with shapes (2,3,5) (5,3,2) "
     ]
    }
   ],
   "source": [
    "# Since the arrays are summed element by element, and we have 2 arrays with different dimensions, we cannot sum them.\n",
    "print(a + b)\n"
   ]
  },
  {
   "cell_type": "markdown",
   "metadata": {},
   "source": [
    "# 9. Transpose b so that it has the same structure of a (i.e. become a 2x3x5 array). Assign the transposed array to varialbe \"c\".\n"
   ]
  },
  {
   "cell_type": "code",
   "execution_count": 10,
   "metadata": {},
   "outputs": [
    {
     "name": "stdout",
     "output_type": "stream",
     "text": [
      "(2, 3, 5)\n",
      "(2, 3, 5)\n",
      "[[[0.36203719 0.69930457 0.70315926 0.16978973 0.81610908]\n",
      "  [0.63620022 0.55404131 0.42578555 0.41625243 0.7801978 ]\n",
      "  [0.19255335 0.58390732 0.40231234 0.47149022 0.31360733]]\n",
      "\n",
      " [[0.96398474 0.08578464 0.6986476  0.12654826 0.16980913]\n",
      "  [0.41590349 0.35347766 0.42563862 0.69357213 0.74721584]\n",
      "  [0.45200315 0.18789713 0.99650118 0.57086135 0.45051401]]] \n",
      "\n",
      " [[[1. 1. 1. 1. 1.]\n",
      "  [1. 1. 1. 1. 1.]\n",
      "  [1. 1. 1. 1. 1.]]\n",
      "\n",
      " [[1. 1. 1. 1. 1.]\n",
      "  [1. 1. 1. 1. 1.]\n",
      "  [1. 1. 1. 1. 1.]]]\n"
     ]
    }
   ],
   "source": [
    "c = np.transpose(b)\n",
    "print(np.shape(a))\n",
    "print(np.shape(c))\n",
    "print(a,\"\\n\\n\", c)"
   ]
  },
  {
   "cell_type": "markdown",
   "metadata": {},
   "source": [
    "# 10. Try to add a and c. Now it should work. Assign the sum to varialbe \"d\". But why does it work now?\n"
   ]
  },
  {
   "cell_type": "code",
   "execution_count": 11,
   "metadata": {},
   "outputs": [],
   "source": [
    "# It works because they have the same shape now\n",
    "d = (a + c)"
   ]
  },
  {
   "cell_type": "markdown",
   "metadata": {},
   "source": [
    "# 11. Print a and d. Notice the difference and relation of the two array in terms of the values? Explain.\n"
   ]
  },
  {
   "cell_type": "code",
   "execution_count": 12,
   "metadata": {},
   "outputs": [
    {
     "name": "stdout",
     "output_type": "stream",
     "text": [
      "[[[0.36203719 0.69930457 0.70315926 0.16978973 0.81610908]\n",
      "  [0.63620022 0.55404131 0.42578555 0.41625243 0.7801978 ]\n",
      "  [0.19255335 0.58390732 0.40231234 0.47149022 0.31360733]]\n",
      "\n",
      " [[0.96398474 0.08578464 0.6986476  0.12654826 0.16980913]\n",
      "  [0.41590349 0.35347766 0.42563862 0.69357213 0.74721584]\n",
      "  [0.45200315 0.18789713 0.99650118 0.57086135 0.45051401]]] \n",
      "\n",
      "\n",
      "[[[1.36203719 1.69930457 1.70315926 1.16978973 1.81610908]\n",
      "  [1.63620022 1.55404131 1.42578555 1.41625243 1.7801978 ]\n",
      "  [1.19255335 1.58390732 1.40231234 1.47149022 1.31360733]]\n",
      "\n",
      " [[1.96398474 1.08578464 1.6986476  1.12654826 1.16980913]\n",
      "  [1.41590349 1.35347766 1.42563862 1.69357213 1.74721584]\n",
      "  [1.45200315 1.18789713 1.99650118 1.57086135 1.45051401]]]\n"
     ]
    }
   ],
   "source": [
    "# Since d is the sum of both arrays, and one of the arrays was filled with ones\n",
    "# d has +1 in all of his elements (comparing to a)\n",
    "print(a, \"\\n\\n\")\n",
    "print(d)"
   ]
  },
  {
   "cell_type": "markdown",
   "metadata": {},
   "source": [
    "# 12. Multiply a and c. Assign the result to e.\n"
   ]
  },
  {
   "cell_type": "code",
   "execution_count": 13,
   "metadata": {},
   "outputs": [],
   "source": [
    "e = np.multiply(a, c)"
   ]
  },
  {
   "cell_type": "markdown",
   "metadata": {},
   "source": [
    "# 13. Does e equal to a? Why or why not?\n"
   ]
  },
  {
   "cell_type": "code",
   "execution_count": 14,
   "metadata": {},
   "outputs": [
    {
     "name": "stdout",
     "output_type": "stream",
     "text": [
      "[[[ True  True  True  True  True]\n",
      "  [ True  True  True  True  True]\n",
      "  [ True  True  True  True  True]]\n",
      "\n",
      " [[ True  True  True  True  True]\n",
      "  [ True  True  True  True  True]\n",
      "  [ True  True  True  True  True]]]\n"
     ]
    }
   ],
   "source": [
    "# Because we multiply the rows of a * the columns of c. Since c is an array of ones, the values stay the same.\n",
    "print(a == e)"
   ]
  },
  {
   "cell_type": "markdown",
   "metadata": {},
   "source": [
    "# 14. Identify the max, min, and mean values in d. Assign those values to variables \"d_max\", \"d_min\", and \"d_mean\"\n"
   ]
  },
  {
   "cell_type": "code",
   "execution_count": 15,
   "metadata": {},
   "outputs": [
    {
     "name": "stdout",
     "output_type": "stream",
     "text": [
      "1.9965011847148766 1.0857846400865037 1.4955035540320047\n"
     ]
    }
   ],
   "source": [
    "d_max, d_min, d_mean = np.amax(d), np.amin(d), np.mean(d)\n",
    "print(d_max, d_min, d_mean)"
   ]
  },
  {
   "cell_type": "markdown",
   "metadata": {},
   "source": [
    "# 15. Now we want to label the values in d. First create an empty array \"f\" with the same shape (i.e. 2x3x5) as d using `np.empty`.\n"
   ]
  },
  {
   "cell_type": "code",
   "execution_count": 20,
   "metadata": {},
   "outputs": [
    {
     "data": {
      "text/plain": [
       "array([[[1.36203719, 1.69930457, 1.70315926, 1.16978973, 1.81610908],\n",
       "        [1.63620022, 1.55404131, 1.42578555, 1.41625243, 1.7801978 ],\n",
       "        [1.19255335, 1.58390732, 1.40231234, 1.47149022, 1.31360733]],\n",
       "\n",
       "       [[1.96398474, 1.08578464, 1.6986476 , 1.12654826, 1.16980913],\n",
       "        [1.41590349, 1.35347766, 1.42563862, 1.69357213, 1.74721584],\n",
       "        [1.45200315, 1.18789713, 1.99650118, 1.57086135, 1.45051401]]])"
      ]
     },
     "execution_count": 20,
     "metadata": {},
     "output_type": "execute_result"
    }
   ],
   "source": [
    "f = np.empty((2, 3, 5))\n",
    "f"
   ]
  },
  {
   "cell_type": "markdown",
   "metadata": {},
   "source": [
    "\n",
    "# 16. Populate the values in f. For each value in d, if it's larger than d_min but smaller than d_mean, assign 25 to the corresponding value in f.\n",
    "If a value in d is larger than d_mean but smaller than d_max, assign 75 to the corresponding value in f.\n",
    "If a value equals to d_mean, assign 50 to the corresponding value in f.\n",
    "Assign 0 to the corresponding value(s) in f for d_min in d.\n",
    "Assign 100 to the corresponding value(s) in f for d_max in d.\n",
    "In the end, f should have only the following values: 0, 25, 50, 75, and 100.\n",
    "Note: you don't have to use Numpy in this question.\n",
    "\n",
    "\n"
   ]
  },
  {
   "cell_type": "code",
   "execution_count": 21,
   "metadata": {},
   "outputs": [
    {
     "data": {
      "text/plain": [
       "array([[[1.36203719, 1.69930457, 1.70315926, 1.16978973, 1.81610908],\n",
       "        [1.63620022, 1.55404131, 1.42578555, 1.41625243, 1.7801978 ],\n",
       "        [1.19255335, 1.58390732, 1.40231234, 1.47149022, 1.31360733]],\n",
       "\n",
       "       [[1.96398474, 1.08578464, 1.6986476 , 1.12654826, 1.16980913],\n",
       "        [1.41590349, 1.35347766, 1.42563862, 1.69357213, 1.74721584],\n",
       "        [1.45200315, 1.18789713, 1.99650118, 1.57086135, 1.45051401]]])"
      ]
     },
     "execution_count": 21,
     "metadata": {},
     "output_type": "execute_result"
    }
   ],
   "source": [
    "d"
   ]
  },
  {
   "cell_type": "code",
   "execution_count": 24,
   "metadata": {},
   "outputs": [
    {
     "data": {
      "text/plain": [
       "array([[[ 25.,  75.,  75.,  25.,  75.],\n",
       "        [ 75.,  75.,  25.,  25.,  75.],\n",
       "        [ 25.,  75.,  25.,  25.,  25.]],\n",
       "\n",
       "       [[ 75.,   0.,  75.,  25.,  25.],\n",
       "        [ 25.,  25.,  25.,  75.,  75.],\n",
       "        [ 25.,  25., 100.,  75.,  25.]]])"
      ]
     },
     "execution_count": 24,
     "metadata": {},
     "output_type": "execute_result"
    }
   ],
   "source": [
    "for i in range(len(d)):\n",
    "    for j in range(len(d[i])):\n",
    "        for k in range(len(d[i][j])):\n",
    "            if (d[i][j][k] == d_mean):\n",
    "                f[i][j][k] = 50\n",
    "            elif(d[i][j][k] == d_min):\n",
    "                f[i][j][k] = 0\n",
    "            elif(d[i][j][k] == d_max):\n",
    "                f[i][j][k] = 100\n",
    "            elif(d_min < d[i][j][k] < d_mean):\n",
    "                f[i][j][k] = 25\n",
    "            elif(d_mean < d[i][j][k] < d_max):\n",
    "                f[i][j][k] = 75\n",
    "'''\n",
    "for x in d:\n",
    "    for m in x:\n",
    "        for n in m:\n",
    "            if n > d_min and n < d_mean:\n",
    "                f[np.where(d == n)] = 25\n",
    "            elif n > d_mean and n < d_max:\n",
    "                f[np.where(d == n)] = 75\n",
    "            elif n == d_mean:\n",
    "                f[np.where(d == n)] = 50\n",
    "            elif n == d_min:\n",
    "                f[np.where(d == n)] = 0\n",
    "            else:\n",
    "                f[np.where(d == n)] = 100\n",
    "'''\n",
    "f\n",
    "            \n",
    "            "
   ]
  },
  {
   "cell_type": "markdown",
   "metadata": {},
   "source": [
    "# 17. Print d and f. Do you have your expected f?\n",
    "For instance, if your d is:\n",
    "array([[[1.85836099, 1.67064465, 1.62576044, 1.40243961, 1.88454931],\n",
    "        [1.75354326, 1.69403643, 1.36729252, 1.61415071, 1.12104981],\n",
    "        [1.72201435, 1.1862918 , 1.87078449, 1.7726778 , 1.88180042]],\n",
    "\n",
    "       [[1.44747908, 1.31673383, 1.02000951, 1.52218947, 1.97066381],\n",
    "        [1.79129243, 1.74983003, 1.96028037, 1.85166831, 1.65450881],\n",
    "        [1.18068344, 1.9587381 , 1.00656599, 1.93402165, 1.73514584]]])\n",
    "\n",
    "Your f should be:\n",
    "array([[[ 75.,  75.,  75.,  25.,  75.],\n",
    "        [ 75.,  75.,  25.,  25.,  25.],\n",
    "        [ 75.,  25.,  75.,  75.,  75.]],\n",
    "\n",
    "       [[ 25.,  25.,  25.,  25., 100.],\n",
    "        [ 75.,  75.,  75.,  75.,  75.],\n",
    "        [ 25.,  75.,   0.,  75.,  75.]]])"
   ]
  },
  {
   "cell_type": "code",
   "execution_count": 25,
   "metadata": {},
   "outputs": [
    {
     "name": "stdout",
     "output_type": "stream",
     "text": [
      "[[[1.36203719 1.69930457 1.70315926 1.16978973 1.81610908]\n",
      "  [1.63620022 1.55404131 1.42578555 1.41625243 1.7801978 ]\n",
      "  [1.19255335 1.58390732 1.40231234 1.47149022 1.31360733]]\n",
      "\n",
      " [[1.96398474 1.08578464 1.6986476  1.12654826 1.16980913]\n",
      "  [1.41590349 1.35347766 1.42563862 1.69357213 1.74721584]\n",
      "  [1.45200315 1.18789713 1.99650118 1.57086135 1.45051401]]]\n",
      "[[[ 25.  75.  75.  25.  75.]\n",
      "  [ 75.  75.  25.  25.  75.]\n",
      "  [ 25.  75.  25.  25.  25.]]\n",
      "\n",
      " [[ 75.   0.  75.  25.  25.]\n",
      "  [ 25.  25.  25.  75.  75.]\n",
      "  [ 25.  25. 100.  75.  25.]]]\n"
     ]
    }
   ],
   "source": [
    "print(d)\n",
    "print(f)"
   ]
  },
  {
   "cell_type": "markdown",
   "metadata": {},
   "source": [
    "# 18. Bonus question: instead of using numbers (i.e. 0, 25, 50, 75, and 100), how to use string values \n",
    "(\"A\", \"B\", \"C\", \"D\", and \"E\") to label the array elements? You are expecting the result to be:\n",
    "array([[[ 'D',  'D',  'D',  'B',  'D'],\n",
    "        [ 'D',  'D',  'B',  'B',  'B'],\n",
    "        [ 'D',  'B',  'D',  'D',  'D']],\n",
    "\n",
    "       [[ 'B',  'B',  'B',  'B',  'E'],\n",
    "        [ 'D',  'D',  'D',  'D',  'D'],\n",
    "        [ 'B',  'D',   'A',  'D', 'D']]])\n",
    "Again, you don't need Numpy in this question."
   ]
  },
  {
   "cell_type": "code",
   "execution_count": null,
   "metadata": {},
   "outputs": [],
   "source": []
  }
 ],
 "metadata": {
  "kernelspec": {
   "display_name": "Python 3",
   "language": "python",
   "name": "python3"
  },
  "language_info": {
   "codemirror_mode": {
    "name": "ipython",
    "version": 3
   },
   "file_extension": ".py",
   "mimetype": "text/x-python",
   "name": "python",
   "nbconvert_exporter": "python",
   "pygments_lexer": "ipython3",
   "version": "3.7.2"
  }
 },
 "nbformat": 4,
 "nbformat_minor": 2
}
